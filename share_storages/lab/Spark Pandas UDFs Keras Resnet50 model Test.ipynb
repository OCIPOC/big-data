{
 "cells": [
  {
   "cell_type": "code",
   "execution_count": null,
   "id": "3b3449c2-7245-4cae-b728-3c33d6e489d6",
   "metadata": {},
   "outputs": [
    {
     "name": "stderr",
     "output_type": "stream",
     "text": [
      "2022-03-19 15:05:40.278324: W tensorflow/stream_executor/platform/default/dso_loader.cc:64] Could not load dynamic library 'libcudart.so.11.0'; dlerror: libcudart.so.11.0: cannot open shared object file: No such file or directory\n",
      "2022-03-19 15:05:40.278389: I tensorflow/stream_executor/cuda/cudart_stub.cc:29] Ignore above cudart dlerror if you do not have a GPU set up on your machine.\n"
     ]
    },
    {
     "name": "stdout",
     "output_type": "stream",
     "text": [
      "Tensorflow: 2.8.0\n"
     ]
    }
   ],
   "source": [
    "from pyspark.sql import SparkSession\n",
    "import tensorflow as tf\n",
    "import pandas as pd\n",
    "import numpy as np\n",
    "from PIL import Image\n",
    "import os\n",
    "from tensorflow.keras.applications.resnet50 import ResNet50, preprocess_input, decode_predictions\n",
    "from pyspark.sql.functions import col, pandas_udf, PandasUDFType, udf\n",
    "from pyspark.sql.functions import col, count, rand, collect_list, explode, struct, count, lit\n",
    "\n",
    "\n",
    "os.environ['PYSPARK_SUBMIT_ARGS'] = \\\n",
    "    '--packages org.apache.spark:spark-sql-kafka-0-10_2.12:3.0.2,' \\\n",
    "    + 'org.apache.spark:spark-streaming-kafka-0-10_2.12:3.0.2,' \\\n",
    "    + 'org.apache.kafka:kafka-clients:3.1.0,org.apache.spark:spark-core_2.12:3.0.2,' \\\n",
    "    + 'org.apache.spark:spark-streaming_2.12:3.0.2,' \\\n",
    "    + 'org.apache.spark:spark-token-provider-kafka-0-10_2.12:3.0.2,' \\\n",
    "    + 'org.apache.hadoop:hadoop-core:1.2.1' \\\n",
    "    + ' pyspark-shell'\n",
    "\n",
    "print(\"Tensorflow:\", tf.__version__)"
   ]
  },
  {
   "cell_type": "code",
   "execution_count": 9,
   "id": "baa045dc-a36a-4864-9760-160169f75df2",
   "metadata": {},
   "outputs": [
    {
     "data": {
      "text/html": [
       "\n",
       "        <div>\n",
       "            <p><b>SparkContext</b></p>\n",
       "\n",
       "            <p><a href=\"http://5834003fb2e2:4040\">Spark UI</a></p>\n",
       "\n",
       "            <dl>\n",
       "              <dt>Version</dt>\n",
       "                <dd><code>v3.2.1</code></dd>\n",
       "              <dt>Master</dt>\n",
       "                <dd><code>spark://spark-master:7077</code></dd>\n",
       "              <dt>AppName</dt>\n",
       "                <dd><code>test</code></dd>\n",
       "            </dl>\n",
       "        </div>\n",
       "        "
      ],
      "text/plain": [
       "<SparkContext master=spark://spark-master:7077 appName=test>"
      ]
     },
     "execution_count": 9,
     "metadata": {},
     "output_type": "execute_result"
    }
   ],
   "source": [
    "# Load SS, SC\n",
    "ss  = SparkSession.builder.master('spark://spark-master:7077') \\\n",
    "                  .appName(\"test\") \\\n",
    "                  .config(\"spark.executor.memory\", \"2g\") \\\n",
    "                  .config(\"spark.driver.memory\", \"2g\") \\\n",
    "                  .config(\"spark.executor.cores\", \"2\") \\\n",
    "                  .config(\"spark.driver.cores\", \"2\") \\\n",
    "                  .getOrCreate()\n",
    "sc = ss.sparkContext\n",
    "sc"
   ]
  },
  {
   "cell_type": "code",
   "execution_count": 3,
   "id": "3c1c7f18-3930-4388-9b1c-ac4c23969ef4",
   "metadata": {},
   "outputs": [],
   "source": [
    "def preprocess(img_data):\n",
    "    img = Image.open(img_data).convert('RGB')\n",
    "    img = img.resize([224, 224])\n",
    "    x = np.asarray(img, dtype=\"float32\")\n",
    "    return preprocess_input(x)\n",
    "\n",
    "def keras_model_udf(model_fn):\n",
    "    def predict(image_batch_iter):\n",
    "        model = model_fn()\n",
    "        for img_series in image_batch_iter:\n",
    "            processed_images = np.array([preprocess(img) for img in img_series])\n",
    "            predictions = model.predict(processed_images, batch_size=64)\n",
    "            predicted_labels = [x[0] for x in decode_predictions(predictions, top=1)]\n",
    "            yield pd.DataFrame(predicted_labels)\n",
    "    return_type = \"class: string, desc: string, score:float\"\n",
    "    return pandas_udf(return_type, PandasUDFType.SCALAR_ITER)(predict)"
   ]
  },
  {
   "cell_type": "code",
   "execution_count": 8,
   "id": "ba91d818-a55d-434a-8bfd-ac49b6368ef7",
   "metadata": {},
   "outputs": [
    {
     "name": "stderr",
     "output_type": "stream",
     "text": [
      "/usr/local/lib/python3.9/site-packages/pyspark/sql/pandas/functions.py:389: UserWarning: In Python 3.6+ and Spark 3.0+, it is preferred to specify type hints for pandas UDF instead of specifying pandas UDF type which will be deprecated in the future releases. See SPARK-28264 for more details.\n",
      "  warnings.warn(\n"
     ]
    },
    {
     "name": "stdout",
     "output_type": "stream",
     "text": [
      "+--------------------+-----+\n",
      "|             content|class|\n",
      "+--------------------+-----+\n",
      "|/usr/local/share_...|  bee|\n",
      "|/usr/local/share_...|  pot|\n",
      "+--------------------+-----+\n",
      "\n",
      "None\n"
     ]
    },
    {
     "name": "stderr",
     "output_type": "stream",
     "text": [
      "                                                                                \r"
     ]
    },
    {
     "name": "stdout",
     "output_type": "stream",
     "text": [
      "+--------------------+-----+--------------------+\n",
      "|             content|class|          prediction|\n",
      "+--------------------+-----+--------------------+\n",
      "|/usr/local/share_...|  bee|{n02206856, bee, ...|\n",
      "|/usr/local/share_...|  pot|{n03991062, pot, ...|\n",
      "+--------------------+-----+--------------------+\n",
      "\n",
      "14.7 s ± 0 ns per loop (mean ± std. dev. of 1 run, 1 loop each)\n"
     ]
    }
   ],
   "source": [
    "model = ResNet50()\n",
    "bc_model_weights = sc.broadcast(model.get_weights())\n",
    " \n",
    "def resnet50_fn():\n",
    "    model = ResNet50(weights=None)\n",
    "    model.set_weights(bc_model_weights.value)\n",
    "    return model\n",
    "\n",
    "model = resnet50_fn()\n",
    "\n",
    "resnet50_udf = keras_model_udf(resnet50_fn)\n",
    "\n",
    "\n",
    "data = [['/usr/local/share_storages/data/image/flowers/1.png', 'bee'],['/usr/local/share_storages/data/image/flowers/2.png','pot']] \n",
    "# for i in range(10):\n",
    "#     data+= [['/data/image/flowers/1.png', 'bee'],['//share_storages/data/image/flowers/2.png','pot']] \n",
    "pandasDF = pd.DataFrame(data, columns = ['content', 'class']) \n",
    "\n",
    "df = ss.createDataFrame(pandasDF)\n",
    "print(df.show())\n",
    "\n",
    "%timeit -n1 -r1 df.withColumn(\"prediction\", resnet50_udf(col(\"content\"))).show()\n",
    "\n",
    "# print(predictions.show())"
   ]
  },
  {
   "cell_type": "code",
   "execution_count": null,
   "id": "00b9f605-b203-492f-b83e-b6aa336bf450",
   "metadata": {},
   "outputs": [],
   "source": []
  }
 ],
 "metadata": {
  "kernelspec": {
   "display_name": "Python 3 (ipykernel)",
   "language": "python",
   "name": "python3"
  },
  "language_info": {
   "codemirror_mode": {
    "name": "ipython",
    "version": 3
   },
   "file_extension": ".py",
   "mimetype": "text/x-python",
   "name": "python",
   "nbconvert_exporter": "python",
   "pygments_lexer": "ipython3",
   "version": "3.9.7"
  }
 },
 "nbformat": 4,
 "nbformat_minor": 5
}
