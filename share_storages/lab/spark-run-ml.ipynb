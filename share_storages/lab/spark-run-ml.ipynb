{
 "cells": [
  {
   "cell_type": "code",
   "execution_count": 4,
   "id": "3b3449c2-7245-4cae-b728-3c33d6e489d6",
   "metadata": {},
   "outputs": [
    {
     "name": "stdout",
     "output_type": "stream",
     "text": [
      "Tensorflow: 2.8.0\n"
     ]
    }
   ],
   "source": [
    "from pyspark.sql import SparkSession\n",
    "import tensorflow as tf\n",
    "import pandas as pd\n",
    "import numpy as np\n",
    "from PIL import Image\n",
    "import os\n",
    "from tensorflow.keras.applications.resnet50 import ResNet50, preprocess_input, decode_predictions\n",
    "from pyspark.sql.functions import col, pandas_udf, PandasUDFType, udf\n",
    "from pyspark.sql.functions import col, count, rand, collect_list, explode, struct, count, lit\n",
    "\n",
    "os.environ['PYSPARK_SUBMIT_ARGS'] = \\\n",
    "    '--packages org.apache.spark:spark-sql-kafka-0-10_2.12:3.0.2,' \\\n",
    "    + 'org.apache.spark:spark-streaming-kafka-0-10_2.12:3.0.2,' \\\n",
    "    + 'org.apache.kafka:kafka-clients:3.1.0,org.apache.spark:spark-core_2.12:3.0.2,' \\\n",
    "    + 'org.apache.spark:spark-streaming_2.12:3.0.2,' \\\n",
    "    + 'org.apache.spark:spark-token-provider-kafka-0-10_2.12:3.0.2,' \\\n",
    "    + 'org.apache.hadoop:hadoop-core:1.2.1' \\\n",
    "    + ' pyspark-shell'\n",
    "    \n",
    "print(\"Tensorflow:\", tf.__version__)"
   ]
  },
  {
   "cell_type": "code",
   "execution_count": 5,
   "id": "baa045dc-a36a-4864-9760-160169f75df2",
   "metadata": {},
   "outputs": [
    {
     "data": {
      "text/html": [
       "\n",
       "        <div>\n",
       "            <p><b>SparkContext</b></p>\n",
       "\n",
       "            <p><a href=\"http://b419e7d6ea97:4040\">Spark UI</a></p>\n",
       "\n",
       "            <dl>\n",
       "              <dt>Version</dt>\n",
       "                <dd><code>v3.2.1</code></dd>\n",
       "              <dt>Master</dt>\n",
       "                <dd><code>spark://spark-master:7077</code></dd>\n",
       "              <dt>AppName</dt>\n",
       "                <dd><code>test</code></dd>\n",
       "            </dl>\n",
       "        </div>\n",
       "        "
      ],
      "text/plain": [
       "<SparkContext master=spark://spark-master:7077 appName=test>"
      ]
     },
     "execution_count": 5,
     "metadata": {},
     "output_type": "execute_result"
    }
   ],
   "source": [
    "# Load SS, SC\n",
    "ss  = SparkSession.builder.master('spark://spark-master:7077') \\\n",
    "                  .appName(\"test\") \\\n",
    "                  .config(\"spark.executor.memory\", \"2g\") \\\n",
    "                  .config(\"spark.driver.memory\", \"2g\") \\\n",
    "                  .config(\"spark.executor.cores\", \"2\") \\\n",
    "                  .config(\"spark.driver.cores\", \"2\") \\\n",
    "                  .getOrCreate()\n",
    "sc = ss.sparkContext\n",
    "sc"
   ]
  },
  {
   "cell_type": "code",
   "execution_count": 65,
   "id": "0ea56f81-f2f0-498d-9f8f-cbd4e44cdaf4",
   "metadata": {},
   "outputs": [
    {
     "name": "stdout",
     "output_type": "stream",
     "text": [
      "60.9 ms ± 0 ns per loop (mean ± std. dev. of 1 run, 1 loop each)\n"
     ]
    },
    {
     "name": "stderr",
     "output_type": "stream",
     "text": [
      "                                                                                \r"
     ]
    }
   ],
   "source": [
    "df = ss.range(0, 10000000).withColumn('id', (col('id')).cast('integer')).withColumn('v', rand())\n",
    "\n",
    "@udf('double')\n",
    "def plus_one(v):\n",
    "    return v + 1\n",
    "\n",
    "%timeit -n1 -r1 df.withColumn('v', plus_one(df.v))"
   ]
  },
  {
   "cell_type": "code",
   "execution_count": 63,
   "id": "ede54444-922a-4056-9129-707d23d52e3f",
   "metadata": {},
   "outputs": [
    {
     "name": "stdout",
     "output_type": "stream",
     "text": [
      "58.6 ms ± 0 ns per loop (mean ± std. dev. of 1 run, 1 loop each)\n"
     ]
    }
   ],
   "source": [
    "@pandas_udf(\"double\", PandasUDFType.SCALAR)\n",
    "def pandas_plus_one(v):\n",
    "    return v + 1\n",
    "\n",
    "%timeit -n1 -r1  df.withColumn('v', pandas_plus_one(df.v))"
   ]
  },
  {
   "cell_type": "code",
   "execution_count": null,
   "id": "3c1c7f18-3930-4388-9b1c-ac4c23969ef4",
   "metadata": {},
   "outputs": [],
   "source": [
    "def preprocess(img_data):\n",
    "    img = Image.open(img_data).convert('RGB')\n",
    "    img = img.resize([224, 224])\n",
    "    x = np.asarray(img, dtype=\"float32\")\n",
    "    return preprocess_input(x)\n",
    "\n",
    " \n",
    "def keras_model_udf(model_fn):\n",
    "    def predict(image_batch_iter):\n",
    "        model = model_fn()\n",
    "        for img_series in image_batch_iter:\n",
    "            processed_images = np.array([preprocess(img) for img in img_series])\n",
    "            predictions = model.predict(processed_images, batch_size=64)\n",
    "            predicted_labels = [x[0] for x in decode_predictions(predictions, top=1)]\n",
    "            yield pd.DataFrame(predicted_labels)\n",
    "    return_type = \"class: string, desc: string, score:float\"\n",
    "    return pandas_udf(return_type, PandasUDFType.SCALAR_ITER)(predict)\n"
   ]
  },
  {
   "cell_type": "code",
   "execution_count": null,
   "id": "ba91d818-a55d-434a-8bfd-ac49b6368ef7",
   "metadata": {},
   "outputs": [],
   "source": [
    "model = ResNet50()\n",
    "bc_model_weights = sc.broadcast(model.get_weights())\n",
    " \n",
    "def resnet50_fn():\n",
    "    model = ResNet50(weights=None)\n",
    "    model.set_weights(bc_model_weights.value)\n",
    "    return model\n",
    "\n",
    "# model = resnet50_fn()\n",
    "\n",
    "resnet50_udf = keras_model_udf(resnet50_fn)\n",
    "\n",
    "\n",
    "data = [['//usr/local/share_storages/data/image/flowers/1.png', 'bee'],['//usr/local/share_storages/data/image/flowers/2.png','pot']] \n",
    "for i in range(10):\n",
    "    data+= [['//usr/local/share_storages/data/image/flowers/1.png', 'bee'],['//usr/local/share_storages/data/image/flowers/2.png','pot']] \n",
    "pandasDF = pd.DataFrame(data, columns = ['content', 'class']) \n",
    "\n",
    "df = ss.createDataFrame(pandasDF)\n",
    "print(df.show())\n",
    "\n",
    "predictions = df.withColumn(\"prediction\", resnet50_udf(col(\"content\")))\n",
    "\n",
    "print(predictions.show())"
   ]
  },
  {
   "cell_type": "code",
   "execution_count": null,
   "id": "00b9f605-b203-492f-b83e-b6aa336bf450",
   "metadata": {},
   "outputs": [],
   "source": []
  }
 ],
 "metadata": {
  "kernelspec": {
   "display_name": "Python 3 (ipykernel)",
   "language": "python",
   "name": "python3"
  },
  "language_info": {
   "codemirror_mode": {
    "name": "ipython",
    "version": 3
   },
   "file_extension": ".py",
   "mimetype": "text/x-python",
   "name": "python",
   "nbconvert_exporter": "python",
   "pygments_lexer": "ipython3",
   "version": "3.9.7"
  }
 },
 "nbformat": 4,
 "nbformat_minor": 5
}
